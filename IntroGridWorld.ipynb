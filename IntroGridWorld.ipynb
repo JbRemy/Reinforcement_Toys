{
 "cells": [
  {
   "cell_type": "markdown",
   "metadata": {},
   "source": [
    "# <center>Tutorial on Q-Learning</center>"
   ]
  },
  {
   "cell_type": "code",
   "execution_count": 3,
   "metadata": {},
   "outputs": [
    {
     "data": {
      "text/plain": [
       "<module 'PolicyEpsilonGreedy' from '/Users/Jbremy/Documents/reinforcement_toy/PolicyEpsilonGreedy.py'>"
      ]
     },
     "execution_count": 3,
     "metadata": {},
     "output_type": "execute_result"
    }
   ],
   "source": [
    "import importlib\n",
    "import utils\n",
    "importlib.reload(utils)\n",
    "import Env\n",
    "importlib.reload(Env)\n",
    "import Dataset\n",
    "importlib.reload(Dataset)\n",
    "import Q\n",
    "importlib.reload(Q)\n",
    "import GridWorld\n",
    "importlib.reload(GridWorld)\n",
    "import LearningRate\n",
    "importlib.reload(LearningRate)\n",
    "import PolicyEpsilonGreedy\n",
    "importlib.reload(PolicyEpsilonGreedy)"
   ]
  },
  {
   "cell_type": "code",
   "execution_count": 4,
   "metadata": {},
   "outputs": [],
   "source": [
    "import copy\n",
    "import gym\n",
    "import os\n",
    "\n",
    "import numpy as np\n",
    "\n",
    "import matplotlib\n",
    "import matplotlib.pyplot as plt\n",
    "\n",
    "import utils\n",
    "from Env import Env\n",
    "from GridWorld import GridWorld\n",
    "from LearningRate import LearningRate\n",
    "from Q import Q\n",
    "from PolicyEpsilonGreedy import PolicyEpsilonGreedy\n",
    "\n",
    "from math import radians\n",
    "import time"
   ]
  },
  {
   "cell_type": "markdown",
   "metadata": {},
   "source": [
    "# Theoritical introduction\n",
    "\n",
    "## Markovian Decision Porcess\n",
    "\n",
    "Before tackling a reinforcement learning problem let's define a modelisation for the agents. The <b>Markovian Decision Process (MDP)</b> is defined as follows:\n",
    "* A <b>state</b> space $\\mathcal{X}$.\n",
    "* An <b>action</b> space $\\mathcal{A}$.\n",
    "* A <b>transition</b> transition probability distribution $p(x'|x,a)$. This corresponds to the dynamics of the problem. \"What is the space when this action is taken while being in this state\".\n",
    "* A <b>reward</b> function $r(x,a)$. \"What do we get from performing this action while being in this state\".\n",
    "\n",
    "This modelisation is Markovian since it follows the <b>Markov property</b>:\n",
    "\n",
    "\\begin{equation}\n",
    "    \\mathbb{P}(X_t = x | X_0, \\dots, X_{t-1}) = \\mathbb{P}(X_t = x | X_{t-1})\n",
    "\\end{equation}\n",
    "\n",
    "In other words, the evolution of the agent only depends on the state he is in, not on the past. This will be usefull to train the agent."
   ]
  },
  {
   "cell_type": "markdown",
   "metadata": {},
   "source": [
    "## The Value function and the Bellman equation\n",
    "\n",
    "Let's define the <b>Value function</b> $V$ as the total reward we can expect when we are in a certain state. This depends on the <b>policy</b> we choose. The policy $\\pi(a|x)$ is defined by the operator, and defines what action is to be taken depending on the state. Then the value function is defined by:\n",
    "\n",
    "\\begin{equation}\n",
    "    V^\\pi(x) = \\mathbb{E}\\Big[\\sum_{t=0}^T \\gamma^t r(x_t, a_t) \\Big| x_0, \\pi \\Big]\n",
    "\\end{equation}\n",
    "Where $\\gamma$ is the discount over time and $T$ is the random final time step.\n",
    "\n",
    "Let's denote by $\\pi^*$ the optimal policy, that is to say the policy that maximizes the value function at each state, and by $V^*$ the resulting value function.\n",
    "\n",
    "If the policy is stationary, meaning that it doesn't change with time, wich is the case for the optimal policy, then the value function follows the <b>Bellman equation</b>:\n",
    "\n",
    "\\begin{equation}\n",
    "    V^*(x) = r(x,\\pi^*(x)) + \\gamma \\sum_{x' \\in \\mathcal{X}} p(x'|x,\\pi^*(x)) V^*(x')\n",
    "\\end{equation}\n",
    "Where $\\pi^*(x)$ is the action returned by the optimal policy."
   ]
  },
  {
   "cell_type": "markdown",
   "metadata": {},
   "source": [
    "## Q-Learning\n",
    "\n",
    "Instead of trying to learn the value fonction $V(x)$ for all states, Q-learning consists of learning the $Q$ function that associates each couple of state and action with the expected final reward.\n",
    "The associated value function of a $Q$ function under the policy $\\pi$ is:\n",
    "\n",
    "\\begin{equation}\n",
    "    V^{\\pi}(x) = \\sum_{a \\in \\mathcal{A}} \\pi(a|x) Q(x, a)\n",
    "\\end{equation}\n",
    "\n",
    "If we define the optimal policy as the greedy policy $\\pi^*(x) = \\arg\\max_a Q^*(x, a)$. Then the optimal $Q$ function follows the Bellman equation. We can use this to approximate $Q^*$ with the <b>Q-learning</b> algorithm:\n",
    "\n",
    "<b>Initialize</b> $Q_0$ randomly  \n",
    "<b>For</b> $e = 1, \\dots,n$:  \n",
    "> <b>Intiate</b> $t = 0, x_0$  \n",
    "> <b>While</b> $x_t$ <b>not</b> terminal:  \n",
    ">> <b>Choose</b> $a_t$ according to a suitable <b>exploration policy</b>  \n",
    ">> <b>Observe</b> $r_t = r(x_t, a_t)$, $x_{t+1}$  \n",
    ">> <b>Temporal difference</b> $\\delta_{t} = r_t$ <b>If</b> $x_t$ is terminal <b>Else</b> $r_t + \\gamma \\max_{a}Q(x_{t+1}, a) - Q(x_t, a)$  \n",
    ">> <b>Update</b> $Q(x_t, a_t) =  Q(x_t, a_t) + \\alpha(x_t, a_t) \\delta_t$  \n",
    "\n",
    "If the learning rate $\\alpha_t$ satisfies the <b>Robbins-Monro</b> conditions $\\sum_{t=0}^{\\infty} \\alpha_t = \\infty$ and $\\sum_{t=0}^{\\infty} \\alpha_t^2 < \\infty$ for every state action couple, and every state is visited infinitely often then the convergence toward the optimal $Q$ function is guaranted (almost surrely)."
   ]
  },
  {
   "cell_type": "markdown",
   "metadata": {},
   "source": [
    "# Presentation of the provided Classes\n",
    "\n",
    "### The first environement we are going to use is a maze:\n",
    "```python\n",
    "GridWord\n",
    "# methods\n",
    "    __init__(path) # Only needs a path to the grid file that describes the maze\n",
    "    reset() # resets the environement to it's original state\n",
    "        return state\n",
    "    step(action) # Performs the requiered action\n",
    "                 # action has too be in [\"up\", \"right\", \"down\", \"left\"]\n",
    "        return state, reward, done # Please note thate the reward is allways -1 in this environement\n",
    "    render_path() # Plots the maze and the path taken by the agent up to now\n",
    "    render_V() # Plots the value function associated with the Q function of the environement\n",
    "    render_path_and_V() # Both.\n",
    "```\n",
    "\n",
    "Note that ```GridWord``` also has an instance of the next ```Q``` class initialized.\n",
    "### The Q function:\n",
    "```python\n",
    "Q\n",
    "# methods\n",
    "    __init__(actions_size, # Can either be a list of the actions or the size of the action space\n",
    "             discrete=True, # If the STATE space is discrete or not\n",
    "             state_shape=[], # If the state space is discrete provide its shape\n",
    "             segmentation=[], # If it is continuous provide a discritization grid\n",
    "             init_range=[0,1]) # Initialization range for Q.\n",
    "    __call__(state, action)\n",
    "        return Q_value\n",
    "    get_V(state) # Returns the value funciton for this state\n",
    "        return V_value\n",
    "```\n",
    "\n",
    "### The $\\epsilon$-Greedy Policy\n",
    "\n",
    "Earlier we talked about a <b>\"suitable exploration ppolicy\"</b>. \n",
    "The $\\epsilon$-greedy policy chooses an action as follows:\n",
    "* With probability $\\epsilon$ returns $\\arg\\max_a Q(x_t, a)$\n",
    "* With probability $1-\\epsilon$ uniformly chooses <u>another</u> state\n",
    "\n",
    "```python\n",
    "PolicyEpsilonGreedy\n",
    "# methods\n",
    "    __init__(Q, action_space, # An instance of the previous class and the action space\n",
    "             epsilon, decay, # The initial epsilon and his decay rate\n",
    "             lower, decay_every) # A lower bound for epsilon and the rate at which decay is performed\n",
    "    __call__(state, be_greedy=False) # If be_greedy is True ignores epsilon and returns the best action\n",
    "        return action                # usefull at test time\n",
    "```\n",
    "\n",
    "### Learning-Rate\n",
    "\n",
    "In Q-learning the learning rate depends on the (state, action) couple. Moreover the  learning rate has to satisfy the Robbins-Monro conditions. Here we are going to use the following learning rate:\n",
    "* $\\alpha(x, a) = \\alpha_0 / (1+t(x,a)\\beta)$\n",
    "\n",
    "Where $t(x, a)$ is the number of time this state action couple has been visited.\n",
    "\n",
    "```python\n",
    "LearningRate\n",
    "# methods\n",
    "    __init__(lr0, decay, min_lr, ...) # The initial learning rate, beta and the minimum lr\n",
    "                                      # The other arguments are the same than those used to define Q\n",
    "    __call__(state, action)\n",
    "        return alpha(x,a)\n",
    "```"
   ]
  },
  {
   "cell_type": "markdown",
   "metadata": {},
   "source": [
    "# A few theoritical questions\n",
    "\n",
    "* <b> Why do you think it is important to use the $\\epsilon$-greedy policy and not just the greedy policy ?</b>\n",
    "* <b> Why is the learning rate independant for every (state, action) couple ?</b>\n",
    "* <b> Why do you think the Robbins-Monro conditions are important ?   "
   ]
  },
  {
   "cell_type": "markdown",
   "metadata": {},
   "source": [
    "# A toy exemple\n",
    "\n",
    "Let's consider a simple exemple to illustrate the principles introduces above."
   ]
  },
  {
   "cell_type": "code",
   "execution_count": 6,
   "metadata": {},
   "outputs": [
    {
     "data": {
      "image/png": "[encoded data removed]",
      "text/plain": [
       "<Figure size 936x540 with 2 Axes>"
      ]
     },
     "metadata": {
      "needs_background": "light"
     },
     "output_type": "display_data"
    }
   ],
   "source": [
    "gridworld = GridWorld(\"./GridWorldResults/grid.txt\")\n",
    "\n",
    "for action in [\"up\", \"right\", \"right\", \"up\", \"up\", \"left\", \"up\"]:\n",
    "    gridworld.step(action)\n",
    "\n",
    "gridworld.render_path_and_V()"
   ]
  },
  {
   "cell_type": "markdown",
   "metadata": {},
   "source": [
    "### Please define this problem as a MDP:\n",
    "\n",
    "#### Your answer <b>...</b>"
   ]
  },
  {
   "cell_type": "markdown",
   "metadata": {},
   "source": [
    "## Now we are ready to implement the Q-learning alogrithm\n",
    "\n",
    "In the next cell you are asked to implement a function that takes as input a ```Q``` instance, an ```env``` and learns the Q function. You only need the ```PolicyEpsilonGreedy``` and ```LearningRate``` classes for that. Please also return the rewards history so that we can plot the learning curve."
   ]
  },
  {
   "cell_type": "code",
   "execution_count": 7,
   "metadata": {},
   "outputs": [],
   "source": [
    "def Q_learning(Q_, env, action_space, gamma, print_every_episode, n_episodes, epsilon, epsilon_decay, epsilon_min,\n",
    "              epsilon_decay_every, lr0, lr_decay, min_lr, max_steps):\n",
    "    policy = PolicyEpsilonGreedy(Q_, action_space, epsilon, epsilon_decay, epsilon_min,\n",
    "                                  epsilon_decay_every)\n",
    "    lr = LearningRate(lr0=lr0, decay=lr_decay, min_lr=min_lr, discrete=Q_.discrete,\n",
    "                      actions_size=action_space, state_shape=Q_.W.shape[:-1])\n",
    "    \n",
    "    # Let's save the rewards of every episode so we can plot the learning curve\n",
    "    rewards = [0]*n_episodes\n",
    "    start = time.time()\n",
    "    print(\"Starting training\\n%i episodes\" % (n_episodes))\n",
    "    for episode in range(n_episodes):\n",
    "        # Initialisation of the episode\n",
    "        episode_reward = 0\n",
    "        state = env.reset()\n",
    "        for t in range(max_steps):\n",
    "            action = policy(state)\n",
    "            res = env.step(action)\n",
    "            new_state, reward, done = res[:3]\n",
    "            episode_reward += reward\n",
    "            if done:  \n",
    "                Q_.update(reward, state, action, lr(state, action))\n",
    "                break\n",
    "                \n",
    "            else:\n",
    "                Q_.update(reward +gamma*Q_.get_V(new_state),  state, action, lr(state, action))\n",
    "                \n",
    "            state = new_state \n",
    "        \n",
    "        rewards[episode]+=episode_reward\n",
    "                \n",
    "        if (episode % print_every_episode == 0 and episode>0) or episode==n_episodes-1:\n",
    "            print(\"Finished  episode %i of %i episodes. Mean reward: %.1f\" % \\\n",
    "                  (episode, n_episodes, np.mean(rewards[episode-print_every_episode: episode]))\\\n",
    "                 + \" (%.2f)\" % (time.time()-start))\n",
    "            \n",
    "            policy.do_decay()\n",
    "            \n",
    "    return Q, policy, rewards"
   ]
  },
  {
   "cell_type": "code",
   "execution_count": 9,
   "metadata": {
    "scrolled": true
   },
   "outputs": [
    {
     "name": "stdout",
     "output_type": "stream",
     "text": [
      "Starting training\n",
      "1000 episodes\n",
      "Finished  episode 20 of 1000 episodes. Mean reward: -228.6 (0.34)\n",
      "Finished  episode 40 of 1000 episodes. Mean reward: -80.2 (0.48)\n",
      "Finished  episode 60 of 1000 episodes. Mean reward: -54.8 (0.55)\n",
      "Finished  episode 80 of 1000 episodes. Mean reward: -64.0 (0.64)\n",
      "Finished  episode 100 of 1000 episodes. Mean reward: -59.0 (0.75)\n",
      "Finished  episode 120 of 1000 episodes. Mean reward: -56.5 (0.83)\n",
      "Finished  episode 140 of 1000 episodes. Mean reward: -61.4 (0.92)\n",
      "Finished  episode 160 of 1000 episodes. Mean reward: -53.9 (1.01)\n",
      "Finished  episode 180 of 1000 episodes. Mean reward: -51.9 (1.10)\n",
      "Finished  episode 200 of 1000 episodes. Mean reward: -70.2 (1.20)\n",
      "Finished  episode 220 of 1000 episodes. Mean reward: -55.6 (1.30)\n",
      "Finished  episode 240 of 1000 episodes. Mean reward: -62.3 (1.41)\n",
      "Finished  episode 260 of 1000 episodes. Mean reward: -58.8 (1.52)\n",
      "Finished  episode 280 of 1000 episodes. Mean reward: -54.0 (1.59)\n",
      "Finished  episode 300 of 1000 episodes. Mean reward: -58.9 (1.69)\n",
      "Finished  episode 320 of 1000 episodes. Mean reward: -55.4 (1.79)\n",
      "Finished  episode 340 of 1000 episodes. Mean reward: -63.0 (1.87)\n",
      "Finished  episode 360 of 1000 episodes. Mean reward: -59.0 (1.97)\n",
      "Finished  episode 380 of 1000 episodes. Mean reward: -57.5 (2.07)\n",
      "Finished  episode 400 of 1000 episodes. Mean reward: -56.8 (2.15)\n",
      "Finished  episode 420 of 1000 episodes. Mean reward: -59.3 (2.22)\n",
      "Finished  episode 440 of 1000 episodes. Mean reward: -57.7 (2.32)\n",
      "Finished  episode 460 of 1000 episodes. Mean reward: -55.5 (2.40)\n",
      "Finished  episode 480 of 1000 episodes. Mean reward: -60.0 (2.48)\n",
      "Finished  episode 500 of 1000 episodes. Mean reward: -57.2 (2.58)\n",
      "Finished  episode 520 of 1000 episodes. Mean reward: -61.0 (2.68)\n",
      "Finished  episode 540 of 1000 episodes. Mean reward: -65.5 (2.77)\n",
      "Finished  episode 560 of 1000 episodes. Mean reward: -61.0 (2.87)\n",
      "Finished  episode 580 of 1000 episodes. Mean reward: -58.0 (2.97)\n",
      "Finished  episode 600 of 1000 episodes. Mean reward: -59.5 (3.05)\n",
      "Finished  episode 620 of 1000 episodes. Mean reward: -59.0 (3.13)\n",
      "Finished  episode 640 of 1000 episodes. Mean reward: -53.9 (3.23)\n",
      "Finished  episode 660 of 1000 episodes. Mean reward: -58.5 (3.31)\n",
      "Finished  episode 680 of 1000 episodes. Mean reward: -64.8 (3.40)\n",
      "Finished  episode 700 of 1000 episodes. Mean reward: -60.5 (3.50)\n",
      "Finished  episode 720 of 1000 episodes. Mean reward: -56.2 (3.58)\n",
      "Finished  episode 740 of 1000 episodes. Mean reward: -51.8 (3.66)\n",
      "Finished  episode 760 of 1000 episodes. Mean reward: -59.1 (3.75)\n",
      "Finished  episode 780 of 1000 episodes. Mean reward: -59.0 (3.84)\n",
      "Finished  episode 800 of 1000 episodes. Mean reward: -56.7 (3.92)\n",
      "Finished  episode 820 of 1000 episodes. Mean reward: -58.2 (4.02)\n",
      "Finished  episode 840 of 1000 episodes. Mean reward: -55.9 (4.12)\n",
      "Finished  episode 860 of 1000 episodes. Mean reward: -59.0 (4.20)\n",
      "Finished  episode 880 of 1000 episodes. Mean reward: -57.4 (4.28)\n",
      "Finished  episode 900 of 1000 episodes. Mean reward: -53.5 (4.37)\n",
      "Finished  episode 920 of 1000 episodes. Mean reward: -60.2 (4.45)\n",
      "Finished  episode 940 of 1000 episodes. Mean reward: -53.4 (4.52)\n",
      "Finished  episode 960 of 1000 episodes. Mean reward: -58.0 (4.59)\n",
      "Finished  episode 980 of 1000 episodes. Mean reward: -52.5 (4.69)\n",
      "Finished  episode 999 of 1000 episodes. Mean reward: -57.8 (4.77)\n"
     ]
    }
   ],
   "source": [
    "# Initializing the environement\n",
    "gridworld = GridWorld(\"./GridWorldResults/grid.txt\")\n",
    "action_space = [\"up\", \"right\", \"down\", \"left\"]\n",
    "\n",
    "_, policy, rewards = Q_learning(Q_=gridworld.Q, env=gridworld, action_space=action_space,\n",
    "                                print_every_episode=20, n_episodes=1000, gamma=1, max_steps=500,\n",
    "                                epsilon=0.5, epsilon_decay=0.99, epsilon_min=0.4, epsilon_decay_every=50, \n",
    "                                lr0=1, lr_decay=0.01, min_lr=0.1)"
   ]
  },
  {
   "cell_type": "code",
   "execution_count": 10,
   "metadata": {
    "scrolled": false
   },
   "outputs": [
    {
     "data": {
      "image/png": "[encoded data removed]",
      "text/plain": [
       "<Figure size 576x432 with 1 Axes>"
      ]
     },
     "metadata": {
      "needs_background": "light"
     },
     "output_type": "display_data"
    }
   ],
   "source": [
    "plt.figure(figsize=(8,6))\n",
    "plt.plot(utils.rolling_average(rewards, 10))\n",
    "plt.title(\"Learning curve\")\n",
    "plt.show()"
   ]
  },
  {
   "cell_type": "code",
   "execution_count": 13,
   "metadata": {
    "scrolled": false
   },
   "outputs": [
    {
     "data": {
      "image/png": "[encoded data removed]",
      "text/plain": [
       "<Figure size 936x540 with 2 Axes>"
      ]
     },
     "metadata": {
      "needs_background": "light"
     },
     "output_type": "display_data"
    }
   ],
   "source": [
    "state = gridworld.reset()\n",
    "done = False\n",
    "count=0\n",
    "while not done and count<100:\n",
    "    count+=1\n",
    "    action = policy(state, be_greedy=True)\n",
    "    state, _, done = gridworld.step(action)\n",
    "\n",
    "gridworld.render_path_and_V()"
   ]
  },
  {
   "cell_type": "code",
   "execution_count": null,
   "metadata": {},
   "outputs": [],
   "source": []
  }
 ],
 "metadata": {
  "kernelspec": {
   "display_name": "reinforcement_toy",
   "language": "python",
   "name": "reinforcement_toy"
  },
  "language_info": {
   "codemirror_mode": {
    "name": "ipython",
    "version": 3
   },
   "file_extension": ".py",
   "mimetype": "text/x-python",
   "name": "python",
   "nbconvert_exporter": "python",
   "pygments_lexer": "ipython3",
   "version": "3.7.3"
  }
 },
 "nbformat": 4,
 "nbformat_minor": 2
}
