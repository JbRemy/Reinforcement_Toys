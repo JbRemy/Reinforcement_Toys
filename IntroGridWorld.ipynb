{
 "cells": [
  {
   "cell_type": "markdown",
   "metadata": {},
   "source": [
    "# <center>Tutorial on Q-Learning</center>"
   ]
  },
  {
   "cell_type": "code",
   "execution_count": 1,
   "metadata": {},
   "outputs": [
    {
     "data": {
      "text/plain": [
       "<module 'codes' from '/Users/Jbremy/Documents/reinforcement_toy/codes/__init__.py'>"
      ]
     },
     "execution_count": 1,
     "metadata": {},
     "output_type": "execute_result"
    }
   ],
   "source": [
    "import codes\n",
    "import importlib\n",
    "importlib.reload(codes)"
   ]
  },
  {
   "cell_type": "code",
   "execution_count": 2,
   "metadata": {},
   "outputs": [],
   "source": [
    "import copy\n",
    "import gym\n",
    "import os\n",
    "\n",
    "import numpy as np\n",
    "\n",
    "import matplotlib\n",
    "import matplotlib.pyplot as plt\n",
    "\n",
    "from codes import utils\n",
    "from codes.Env import Env\n",
    "from codes.GridWorld import GridWorld\n",
    "from codes.LearningRate import LearningRate\n",
    "from codes.Q import Q\n",
    "from codes.PolicyEpsilonGreedy import PolicyEpsilonGreedy\n",
    "\n",
    "from math import radians\n",
    "import time"
   ]
  },
  {
   "cell_type": "markdown",
   "metadata": {},
   "source": [
    "# Theoritical introduction\n",
    "\n",
    "## Markovian Decision Porcess\n",
    "\n",
    "Before tackling a reinforcement learning problem let's define a modelisation for the agents. The <b>Markovian Decision Process (MDP)</b> is defined as follows:\n",
    "* A <b>state</b> space $\\mathcal{X}$.\n",
    "* An <b>action</b> space $\\mathcal{A}$.\n",
    "* A <b>transition</b> transition probability distribution $p(x'|x,a)$. This corresponds to the dynamics of the problem. \"What is the space when this action is taken while being in this state\".\n",
    "* A <b>reward</b> function $r(x,a)$. \"What do we get from performing this action while being in this state\".\n",
    "\n",
    "This modelisation is Markovian since it follows the <b>Markov property</b>:\n",
    "\n",
    "\\begin{equation}\n",
    "    \\mathbb{P}(X_t = x | X_0, \\dots, X_{t-1}) = \\mathbb{P}(X_t = x | X_{t-1})\n",
    "\\end{equation}\n",
    "\n",
    "In other words, the evolution of the agent only depends on the state he is in, not on the past. This will be usefull to train the agent."
   ]
  },
  {
   "cell_type": "markdown",
   "metadata": {},
   "source": [
    "## The Value function and the Bellman equation\n",
    "\n",
    "Let's define the <b>Value function</b> $V$ as the total reward we can expect when we are in a certain state. This depends on the <b>policy</b> we choose. The policy $\\pi(a|x)$ is defined by the operator, and defines what action is to be taken depending on the state. Then the value function is defined by:\n",
    "\n",
    "\\begin{equation}\n",
    "    V^\\pi(x) = \\mathbb{E}\\Big[\\sum_{t=0}^T \\gamma^t r(x_t, a_t) \\Big| x_0, \\pi \\Big]\n",
    "\\end{equation}\n",
    "Where $\\gamma$ is the discount over time and $T$ is the random final time step.\n",
    "\n",
    "Let's denote by $\\pi^*$ the optimal policy, that is to say the policy that maximizes the value function at each state, and by $V^*$ the resulting value function.\n",
    "\n",
    "If the policy is stationary, meaning that it doesn't change with time, wich is the case for the optimal policy, then the value function follows the <b>Bellman equation</b>:\n",
    "\n",
    "\\begin{equation}\n",
    "    V^*(x) = r(x,\\pi^*(x)) + \\gamma \\sum_{x' \\in \\mathcal{X}} p(x'|x,\\pi^*(x)) V^*(x')\n",
    "\\end{equation}\n",
    "Where $\\pi^*(x)$ is the action returned by the optimal policy."
   ]
  },
  {
   "cell_type": "markdown",
   "metadata": {},
   "source": [
    "## Q-Learning\n",
    "\n",
    "Instead of trying to learn the value fonction $V(x)$ for all states, Q-learning consists of learning the $Q$ function that associates each couple of state and action with the expected final reward.\n",
    "The associated value function of a $Q$ function under the policy $\\pi$ is:\n",
    "\n",
    "\\begin{equation}\n",
    "    V^{\\pi}(x) = \\sum_{a \\in \\mathcal{A}} \\pi(a|x) Q(x, a)\n",
    "\\end{equation}\n",
    "\n",
    "If we define the optimal policy as the greedy policy $\\pi^*(x) = \\arg\\max_a Q^*(x, a)$. Then the optimal $Q$ function follows the Bellman equation. We can use this to approximate $Q^*$ with the <b>Q-learning</b> algorithm:\n",
    "\n",
    "<b>Initialize</b> $Q_0$ randomly  \n",
    "<b>For</b> $e = 1, \\dots,n$:  \n",
    "> <b>Intiate</b> $t = 0, x_0$  \n",
    "> <b>While</b> $x_t$ <b>not</b> terminal:  \n",
    ">> <b>Choose</b> $a_t$ according to a suitable <b>exploration policy</b>  \n",
    ">> <b>Observe</b> $r_t = r(x_t, a_t)$, $x_{t+1}$  \n",
    ">> <b>Temporal difference</b> $\\delta_{t} = r_t$ <b>If</b> $x_t$ is terminal <b>Else</b> $r_t + \\gamma \\max_{a}Q(x_{t+1}, a) - Q(x_t, a)$  \n",
    ">> <b>Update</b> $Q(x_t, a_t) =  Q(x_t, a_t) + \\alpha(x_t, a_t) \\delta_t$  \n",
    "\n",
    "If the learning rate $\\alpha_t$ satisfies the <b>Robbins-Monro</b> conditions $\\sum_{t=0}^{\\infty} \\alpha_t = \\infty$ and $\\sum_{t=0}^{\\infty} \\alpha_t^2 < \\infty$ for every state action couple, and every state is visited infinitely often then the convergence toward the optimal $Q$ function is guaranted (almost surrely)."
   ]
  },
  {
   "cell_type": "markdown",
   "metadata": {},
   "source": [
    "# Presentation of the provided Classes"
   ]
  },
  {
   "cell_type": "markdown",
   "metadata": {},
   "source": [
    "### The first environement we are going to use is a maze:\n",
    "```python\n",
    "class  GridWorld(object):\n",
    "    \"\"\"A class to generate and interact with a gridworld environement\n",
    "\n",
    "    Attributes:\n",
    "        Q (Q): The empirical Q function of the environement.\n",
    "        V (V): The empirical Value function of the environement.\n",
    "               !!! Different from Q.V !!!\n",
    "               Only to use for value iteration\n",
    "        x, y (int): Coordinates of the agent in the grid.\n",
    "        t (int): The time stamp in the current run.\n",
    "        path (list): The path taken during the current run\n",
    "\n",
    "    Methods:\n",
    "        reset(self, random_init: bool=False, state: Optional[Tuple[int]]=None)\n",
    "              -> None:\n",
    "            Resets the agent to the start/random/required position and time to 0.\n",
    "        step(self, action: Union[str, int]) \n",
    "             -> Tuple[Union[Tuple[int], int, bool, None]]:\n",
    "            Perfomrs the asked action\n",
    "        render_path_and_V(self, scale: int=1.5) -> None:\n",
    "            Plots the path taken by the agent and the Value function.\n",
    "        render_board(self, scale= float:1.5, show: bool=True,\n",
    "                     fig: bool=False) -> None:\n",
    "            displays a figure with the labirynth.\n",
    "        render_path(self, fig: bool=False, show: bool=True) -> None:\n",
    "            Plots the path taken by the agent up to now\n",
    "        render_V(self, fig: bool=False, show: bool=True,from: str='Q') -> None:\n",
    "            Plots the Value function\n",
    "\n",
    "    Constants:\n",
    "        ACTION_SPACE (list): The possible actions in int\n",
    "        ACTION_DICT (dict): The possible actions in strings\n",
    "            \"up\", \"right\", \"down\", \"left\"\n",
    "    \"\"\"\n",
    "```"
   ]
  },
  {
   "cell_type": "markdown",
   "metadata": {},
   "source": [
    "Note that ```GridWord``` also has an instance of the next ```Q``` class initialized.\n",
    "### The Q function:\n",
    "```python\n",
    "class Q(object):\n",
    "    \"\"\"A Q-table for discrete or continous state space\n",
    "\n",
    "    Attributes:\n",
    "        W (np.array): The Q table\n",
    "\n",
    "    Methods:\n",
    "        __init__(self, actions: List, discrete: bool=True, \n",
    "                 state_shape: Optional[Tuple]=None,\n",
    "                 segmentation: Optional[List]=None, \n",
    "                 init_range: List[int]=[0,1]) -> None\n",
    "            Initialises the Q table.\n",
    "        __call__(self, observation: Tuple[int], \n",
    "                 action: Union[str, int]) -> float:\n",
    "            Returns the value of the Q table for the state and action provided.\n",
    "        update(self, value: float, observation: Tuple[int], \n",
    "               action: Union[str, int], lr: float) -> None:\n",
    "            Updates the Q-table value for the oservation-action to the new value\n",
    "            with provided lr.\n",
    "\n",
    "    \"\"\"\n",
    "```"
   ]
  },
  {
   "cell_type": "markdown",
   "metadata": {},
   "source": [
    "### The $\\epsilon$-Greedy Policy\n",
    "\n",
    "Earlier we talked about a <b>\"suitable exploration ppolicy\"</b>. \n",
    "The $\\epsilon$-greedy policy chooses an action as follows:\n",
    "* With probability $\\epsilon$ returns $\\arg\\max_a Q(x_t, a)$\n",
    "* With probability $1-\\epsilon$ uniformly chooses <u>another</u> state\n",
    "\n",
    "```python\n",
    "class PolicyEpsilonGreedy(object):\n",
    "    \"\"\"This is an implementation of the epsilon greedy policy with respect to a\n",
    "    provided Q-table\n",
    "\n",
    "    Methods:\n",
    "        __init__(self, Q: Q, action_space: List[Union[int, str]], \n",
    "                 epsilon: float, decay: float, lower: float, \n",
    "                 decay_every: int) -> None:\n",
    "            Initializes the Policy\n",
    "        __call__(self, state: Union[np.array, List, int, str],\n",
    "                 be_greedy: bool=False) -> Union[int, str]:\n",
    "            Returns an action with respect to the policy\n",
    "```"
   ]
  },
  {
   "cell_type": "markdown",
   "metadata": {},
   "source": [
    "### Learning-Rate\n",
    "\n",
    "In Q-learning the learning rate depends on the (state, action) couple. Moreover the  learning rate has to satisfy the Robbins-Monro conditions. Here we are going to use the following learning rate:\n",
    "* $\\alpha(x, a) = \\alpha_0 / (1+t(x,a)\\beta)$\n",
    "\n",
    "Where $t(x, a)$ is the number of time this state action couple has been visited.\n",
    "\n",
    "```python\n",
    "LearningRate\n",
    "# methods\n",
    "    __init__(lr0, decay, min_lr, ...) # The initial learning rate, beta and the minimum lr\n",
    "                                      # The other arguments are the same than those used to define Q\n",
    "    __call__(state, action)\n",
    "        return alpha(x,a)\n",
    "```"
   ]
  },
  {
   "cell_type": "markdown",
   "metadata": {},
   "source": [
    "# A few theoritical questions\n",
    "\n",
    "* <b> Why do you think it is important to use the $\\epsilon$-greedy policy and not just the greedy policy ?</b>\n",
    "* <b> Why is the learning rate independant for every (state, action) couple ?</b>\n",
    "* <b> Why do you think the Robbins-Monro conditions are important ?   "
   ]
  },
  {
   "cell_type": "markdown",
   "metadata": {},
   "source": [
    "# A toy exemple\n",
    "\n",
    "Let's consider a simple exemple to illustrate the principles introduces above."
   ]
  },
  {
   "cell_type": "code",
   "execution_count": 4,
   "metadata": {},
   "outputs": [
    {
     "data": {
      "image/png": "[encoded data removed]",
      "text/plain": [
       "<Figure size 936x540 with 2 Axes>"
      ]
     },
     "metadata": {
      "needs_background": "light"
     },
     "output_type": "display_data"
    }
   ],
   "source": [
    "gridworld = GridWorld(\"./GridWorldResults/grid.txt\")\n",
    "\n",
    "for action in [\"up\", \"right\", \"right\", \"up\", \"up\", \"left\", \"up\"]:\n",
    "    gridworld.step(action)\n",
    "\n",
    "gridworld.render_path_and_V()"
   ]
  },
  {
   "cell_type": "markdown",
   "metadata": {},
   "source": [
    "### Please define this problem as a MDP:\n",
    "\n",
    "#### Your answer <b>...</b>"
   ]
  },
  {
   "cell_type": "markdown",
   "metadata": {},
   "source": [
    "## Now we are ready to implement the Q-learning alogrithm\n",
    "\n",
    "In the next cell you are asked to implement a function that takes as input a ```Q``` instance, an ```env``` and learns the Q function. You only need the ```PolicyEpsilonGreedy``` and ```LearningRate``` classes for that. Please also return the rewards history so that we can plot the learning curve."
   ]
  },
  {
   "cell_type": "code",
   "execution_count": 5,
   "metadata": {},
   "outputs": [],
   "source": [
    "def Q_learning(Q_, env, action_space, gamma, print_every_episode, n_episodes, epsilon, epsilon_decay, epsilon_min,\n",
    "              epsilon_decay_every, lr0, lr_decay, min_lr, max_steps):\n",
    "    policy = PolicyEpsilonGreedy(Q_, action_space, epsilon, epsilon_decay, epsilon_min,\n",
    "                                  epsilon_decay_every)\n",
    "    lr = LearningRate(lr0=lr0, decay=lr_decay, min_lr=min_lr, discrete=Q_.discrete,\n",
    "                      actions_size=action_space, state_shape=Q_.W.shape[:-1])\n",
    "    \n",
    "    # Let's save the rewards of every episode so we can plot the learning curve\n",
    "    rewards = [0]*n_episodes\n",
    "    start = time.time()\n",
    "    print(\"Starting training\\n%i episodes\" % (n_episodes))\n",
    "    for episode in range(n_episodes):\n",
    "        # Initialisation of the episode\n",
    "        episode_reward = 0\n",
    "        state = env.reset()\n",
    "        for t in range(max_steps):\n",
    "            action = policy(state)\n",
    "            res = env.step(action)\n",
    "            new_state, reward, done = res[:3]\n",
    "            episode_reward += reward\n",
    "            if done:  \n",
    "                Q_.update(reward, state, action, lr(state, action))\n",
    "                break\n",
    "                \n",
    "            else:\n",
    "                Q_.update(reward +gamma*Q_.get_V(new_state),  state, action, lr(state, action))\n",
    "                \n",
    "            state = new_state \n",
    "        \n",
    "        rewards[episode]+=episode_reward\n",
    "                \n",
    "        if (episode % print_every_episode == 0 and episode>0) or episode==n_episodes-1:\n",
    "            print(\"Finished  episode %i of %i episodes. Mean reward: %.1f\" % \\\n",
    "                  (episode, n_episodes, np.mean(rewards[episode-print_every_episode: episode]))\\\n",
    "                 + \" (%.2f)\" % (time.time()-start))\n",
    "            \n",
    "            policy.do_decay()\n",
    "            \n",
    "    return Q, policy, rewards"
   ]
  },
  {
   "cell_type": "code",
   "execution_count": 6,
   "metadata": {
    "scrolled": true
   },
   "outputs": [
    {
     "name": "stdout",
     "output_type": "stream",
     "text": [
      "Starting training\n",
      "1000 episodes\n",
      "Finished  episode 20 of 1000 episodes. Mean reward: -215.6 (0.34)\n",
      "Finished  episode 40 of 1000 episodes. Mean reward: -79.5 (0.46)\n",
      "Finished  episode 60 of 1000 episodes. Mean reward: -82.4 (0.60)\n",
      "Finished  episode 80 of 1000 episodes. Mean reward: -56.8 (0.68)\n",
      "Finished  episode 100 of 1000 episodes. Mean reward: -58.7 (0.76)\n",
      "Finished  episode 120 of 1000 episodes. Mean reward: -58.1 (0.86)\n",
      "Finished  episode 140 of 1000 episodes. Mean reward: -58.5 (0.94)\n",
      "Finished  episode 160 of 1000 episodes. Mean reward: -60.6 (1.04)\n",
      "Finished  episode 180 of 1000 episodes. Mean reward: -58.1 (1.14)\n",
      "Finished  episode 200 of 1000 episodes. Mean reward: -56.9 (1.22)\n",
      "Finished  episode 220 of 1000 episodes. Mean reward: -59.1 (1.30)\n",
      "Finished  episode 240 of 1000 episodes. Mean reward: -60.6 (1.42)\n",
      "Finished  episode 260 of 1000 episodes. Mean reward: -61.9 (1.51)\n",
      "Finished  episode 280 of 1000 episodes. Mean reward: -58.4 (1.60)\n",
      "Finished  episode 300 of 1000 episodes. Mean reward: -54.8 (1.71)\n",
      "Finished  episode 320 of 1000 episodes. Mean reward: -58.1 (1.80)\n",
      "Finished  episode 340 of 1000 episodes. Mean reward: -60.5 (1.89)\n",
      "Finished  episode 360 of 1000 episodes. Mean reward: -60.4 (2.00)\n",
      "Finished  episode 380 of 1000 episodes. Mean reward: -57.1 (2.09)\n",
      "Finished  episode 400 of 1000 episodes. Mean reward: -55.2 (2.16)\n",
      "Finished  episode 420 of 1000 episodes. Mean reward: -60.9 (2.27)\n",
      "Finished  episode 440 of 1000 episodes. Mean reward: -61.1 (2.37)\n",
      "Finished  episode 460 of 1000 episodes. Mean reward: -58.7 (2.45)\n",
      "Finished  episode 480 of 1000 episodes. Mean reward: -57.8 (2.55)\n",
      "Finished  episode 500 of 1000 episodes. Mean reward: -57.5 (2.64)\n",
      "Finished  episode 520 of 1000 episodes. Mean reward: -56.5 (2.72)\n",
      "Finished  episode 540 of 1000 episodes. Mean reward: -52.0 (2.80)\n",
      "Finished  episode 560 of 1000 episodes. Mean reward: -60.2 (2.89)\n",
      "Finished  episode 580 of 1000 episodes. Mean reward: -62.3 (2.99)\n",
      "Finished  episode 600 of 1000 episodes. Mean reward: -59.7 (3.09)\n",
      "Finished  episode 620 of 1000 episodes. Mean reward: -51.5 (3.16)\n",
      "Finished  episode 640 of 1000 episodes. Mean reward: -55.7 (3.25)\n",
      "Finished  episode 660 of 1000 episodes. Mean reward: -57.0 (3.35)\n",
      "Finished  episode 680 of 1000 episodes. Mean reward: -60.4 (3.45)\n",
      "Finished  episode 700 of 1000 episodes. Mean reward: -54.3 (3.53)\n",
      "Finished  episode 720 of 1000 episodes. Mean reward: -55.5 (3.61)\n",
      "Finished  episode 740 of 1000 episodes. Mean reward: -55.5 (3.71)\n",
      "Finished  episode 760 of 1000 episodes. Mean reward: -54.9 (3.79)\n",
      "Finished  episode 780 of 1000 episodes. Mean reward: -58.8 (3.90)\n",
      "Finished  episode 800 of 1000 episodes. Mean reward: -58.9 (3.99)\n",
      "Finished  episode 820 of 1000 episodes. Mean reward: -53.4 (4.07)\n",
      "Finished  episode 840 of 1000 episodes. Mean reward: -62.0 (4.17)\n",
      "Finished  episode 860 of 1000 episodes. Mean reward: -62.2 (4.26)\n",
      "Finished  episode 880 of 1000 episodes. Mean reward: -57.6 (4.36)\n",
      "Finished  episode 900 of 1000 episodes. Mean reward: -56.0 (4.46)\n",
      "Finished  episode 920 of 1000 episodes. Mean reward: -58.9 (4.54)\n",
      "Finished  episode 940 of 1000 episodes. Mean reward: -62.1 (4.64)\n",
      "Finished  episode 960 of 1000 episodes. Mean reward: -58.8 (4.74)\n",
      "Finished  episode 980 of 1000 episodes. Mean reward: -59.5 (4.83)\n",
      "Finished  episode 999 of 1000 episodes. Mean reward: -55.7 (4.91)\n"
     ]
    }
   ],
   "source": [
    "# Initializing the environement\n",
    "gridworld = GridWorld(\"./GridWorldResults/grid.txt\")\n",
    "action_space = [\"up\", \"right\", \"down\", \"left\"]\n",
    "\n",
    "_, policy, rewards = Q_learning(Q_=gridworld.Q, env=gridworld, action_space=action_space,\n",
    "                                print_every_episode=20, n_episodes=1000, gamma=1, max_steps=500,\n",
    "                                epsilon=0.5, epsilon_decay=0.99, epsilon_min=0.4, epsilon_decay_every=50, \n",
    "                                lr0=1, lr_decay=0.01, min_lr=0.1)"
   ]
  },
  {
   "cell_type": "code",
   "execution_count": 7,
   "metadata": {
    "scrolled": false
   },
   "outputs": [
    {
     "data": {
      "image/png": "[encoded data removed]",
      "text/plain": [
       "<Figure size 576x432 with 1 Axes>"
      ]
     },
     "metadata": {
      "needs_background": "light"
     },
     "output_type": "display_data"
    }
   ],
   "source": [
    "plt.figure(figsize=(8,6))\n",
    "plt.plot(utils.rolling_average(rewards, 10))\n",
    "plt.title(\"Learning curve\")\n",
    "plt.show()"
   ]
  },
  {
   "cell_type": "code",
   "execution_count": 8,
   "metadata": {
    "scrolled": false
   },
   "outputs": [
    {
     "data": {
      "image/png": "[encoded data removed]",
      "text/plain": [
       "<Figure size 936x540 with 2 Axes>"
      ]
     },
     "metadata": {
      "needs_background": "light"
     },
     "output_type": "display_data"
    }
   ],
   "source": [
    "state = gridworld.reset()\n",
    "done = False\n",
    "count=0\n",
    "while not done and count<100:\n",
    "    count+=1\n",
    "    action = policy(state, be_greedy=True)\n",
    "    state, _, done = gridworld.step(action)\n",
    "\n",
    "gridworld.render_path_and_V()"
   ]
  },
  {
   "cell_type": "code",
   "execution_count": 9,
   "metadata": {},
   "outputs": [
    {
     "data": {
      "image/png": "[encoded data removed]",
      "text/plain": [
       "<Figure size 1080x504 with 2 Axes>"
      ]
     },
     "metadata": {
      "needs_background": "light"
     },
     "output_type": "display_data"
    }
   ],
   "source": [
    "gridworld = GridWorld((20,20))\n",
    "\n",
    "gridworld.render_path_and_V(0.7)"
   ]
  },
  {
   "cell_type": "code",
   "execution_count": 10,
   "metadata": {
    "scrolled": true
   },
   "outputs": [
    {
     "name": "stdout",
     "output_type": "stream",
     "text": [
      "Starting training\n",
      "1000 episodes\n",
      "Finished  episode 20 of 1000 episodes. Mean reward: -487.0 (0.75)\n",
      "Finished  episode 40 of 1000 episodes. Mean reward: -490.4 (1.46)\n",
      "Finished  episode 60 of 1000 episodes. Mean reward: -444.9 (2.13)\n",
      "Finished  episode 80 of 1000 episodes. Mean reward: -431.8 (2.75)\n",
      "Finished  episode 100 of 1000 episodes. Mean reward: -339.4 (3.24)\n",
      "Finished  episode 120 of 1000 episodes. Mean reward: -290.7 (3.70)\n",
      "Finished  episode 140 of 1000 episodes. Mean reward: -269.9 (4.08)\n",
      "Finished  episode 160 of 1000 episodes. Mean reward: -128.1 (4.26)\n",
      "Finished  episode 180 of 1000 episodes. Mean reward: -113.0 (4.44)\n",
      "Finished  episode 200 of 1000 episodes. Mean reward: -125.5 (4.62)\n",
      "Finished  episode 220 of 1000 episodes. Mean reward: -135.4 (4.86)\n",
      "Finished  episode 240 of 1000 episodes. Mean reward: -109.9 (5.02)\n",
      "Finished  episode 260 of 1000 episodes. Mean reward: -94.5 (5.18)\n",
      "Finished  episode 280 of 1000 episodes. Mean reward: -97.0 (5.33)\n",
      "Finished  episode 300 of 1000 episodes. Mean reward: -100.7 (5.49)\n",
      "Finished  episode 320 of 1000 episodes. Mean reward: -95.8 (5.64)\n",
      "Finished  episode 340 of 1000 episodes. Mean reward: -94.8 (5.80)\n",
      "Finished  episode 360 of 1000 episodes. Mean reward: -102.6 (5.95)\n",
      "Finished  episode 380 of 1000 episodes. Mean reward: -112.7 (6.14)\n",
      "Finished  episode 400 of 1000 episodes. Mean reward: -88.5 (6.29)\n",
      "Finished  episode 420 of 1000 episodes. Mean reward: -114.4 (6.46)\n",
      "Finished  episode 440 of 1000 episodes. Mean reward: -92.0 (6.59)\n",
      "Finished  episode 460 of 1000 episodes. Mean reward: -102.3 (6.76)\n",
      "Finished  episode 480 of 1000 episodes. Mean reward: -96.0 (6.89)\n",
      "Finished  episode 500 of 1000 episodes. Mean reward: -88.7 (7.02)\n",
      "Finished  episode 520 of 1000 episodes. Mean reward: -91.7 (7.17)\n",
      "Finished  episode 540 of 1000 episodes. Mean reward: -92.8 (7.30)\n",
      "Finished  episode 560 of 1000 episodes. Mean reward: -99.2 (7.44)\n",
      "Finished  episode 580 of 1000 episodes. Mean reward: -118.0 (7.62)\n",
      "Finished  episode 600 of 1000 episodes. Mean reward: -100.2 (7.77)\n",
      "Finished  episode 620 of 1000 episodes. Mean reward: -143.2 (7.99)\n",
      "Finished  episode 640 of 1000 episodes. Mean reward: -91.3 (8.12)\n",
      "Finished  episode 660 of 1000 episodes. Mean reward: -92.0 (8.27)\n",
      "Finished  episode 680 of 1000 episodes. Mean reward: -97.5 (8.41)\n",
      "Finished  episode 700 of 1000 episodes. Mean reward: -99.0 (8.56)\n",
      "Finished  episode 720 of 1000 episodes. Mean reward: -113.8 (8.72)\n",
      "Finished  episode 740 of 1000 episodes. Mean reward: -113.5 (8.90)\n",
      "Finished  episode 760 of 1000 episodes. Mean reward: -100.0 (9.05)\n",
      "Finished  episode 780 of 1000 episodes. Mean reward: -95.2 (9.20)\n",
      "Finished  episode 800 of 1000 episodes. Mean reward: -95.2 (9.33)\n",
      "Finished  episode 820 of 1000 episodes. Mean reward: -93.5 (9.48)\n",
      "Finished  episode 840 of 1000 episodes. Mean reward: -99.2 (9.62)\n",
      "Finished  episode 860 of 1000 episodes. Mean reward: -95.2 (9.78)\n",
      "Finished  episode 880 of 1000 episodes. Mean reward: -118.7 (9.95)\n",
      "Finished  episode 900 of 1000 episodes. Mean reward: -96.0 (10.09)\n",
      "Finished  episode 920 of 1000 episodes. Mean reward: -108.4 (10.24)\n",
      "Finished  episode 940 of 1000 episodes. Mean reward: -90.2 (10.38)\n",
      "Finished  episode 960 of 1000 episodes. Mean reward: -98.0 (10.52)\n",
      "Finished  episode 980 of 1000 episodes. Mean reward: -94.4 (10.66)\n",
      "Finished  episode 999 of 1000 episodes. Mean reward: -91.6 (10.78)\n"
     ]
    }
   ],
   "source": [
    "_, policy, rewards = Q_learning(Q_=gridworld.Q, env=gridworld, action_space=action_space,\n",
    "                                print_every_episode=20, n_episodes=1000, gamma=1, max_steps=500,\n",
    "                                epsilon=0.5, epsilon_decay=0.99, epsilon_min=0.4, epsilon_decay_every=50, \n",
    "                                lr0=1, lr_decay=0.01, min_lr=0.1)"
   ]
  },
  {
   "cell_type": "code",
   "execution_count": 11,
   "metadata": {},
   "outputs": [
    {
     "data": {
      "image/png": "[encoded data removed]",
      "text/plain": [
       "<Figure size 1080x504 with 2 Axes>"
      ]
     },
     "metadata": {
      "needs_background": "light"
     },
     "output_type": "display_data"
    }
   ],
   "source": [
    "state = gridworld.reset()\n",
    "done = False\n",
    "count=0\n",
    "while not done and count<200:\n",
    "    count+=1\n",
    "    action = policy(state, be_greedy=True)\n",
    "    state, _, done = gridworld.step(action)\n",
    "\n",
    "gridworld.render_path_and_V(0.7)"
   ]
  }
 ],
 "metadata": {
  "kernelspec": {
   "display_name": "reinforcement_toy",
   "language": "python",
   "name": "reinforcement_toy"
  },
  "language_info": {
   "codemirror_mode": {
    "name": "ipython",
    "version": 3
   },
   "file_extension": ".py",
   "mimetype": "text/x-python",
   "name": "python",
   "nbconvert_exporter": "python",
   "pygments_lexer": "ipython3",
   "version": "3.7.3"
  }
 },
 "nbformat": 4,
 "nbformat_minor": 2
}
